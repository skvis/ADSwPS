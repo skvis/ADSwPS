{
 "cells": [
  {
   "cell_type": "code",
   "execution_count": 1,
   "metadata": {},
   "outputs": [
    {
     "data": {
      "text/html": [
       "<div>\n",
       "<style scoped>\n",
       "    .dataframe tbody tr th:only-of-type {\n",
       "        vertical-align: middle;\n",
       "    }\n",
       "\n",
       "    .dataframe tbody tr th {\n",
       "        vertical-align: top;\n",
       "    }\n",
       "\n",
       "    .dataframe thead th {\n",
       "        text-align: right;\n",
       "    }\n",
       "</style>\n",
       "<table border=\"1\" class=\"dataframe\">\n",
       "  <thead>\n",
       "    <tr style=\"text-align: right;\">\n",
       "      <th></th>\n",
       "      <th>0</th>\n",
       "      <th>1</th>\n",
       "      <th>2</th>\n",
       "      <th>3</th>\n",
       "      <th>4</th>\n",
       "      <th>5</th>\n",
       "      <th>6</th>\n",
       "      <th>7</th>\n",
       "      <th>8</th>\n",
       "      <th>9</th>\n",
       "      <th>...</th>\n",
       "      <th>3640</th>\n",
       "      <th>3641</th>\n",
       "      <th>3642</th>\n",
       "      <th>3643</th>\n",
       "      <th>3644</th>\n",
       "      <th>3645</th>\n",
       "      <th>3646</th>\n",
       "      <th>3647</th>\n",
       "      <th>3648</th>\n",
       "      <th>3649</th>\n",
       "    </tr>\n",
       "  </thead>\n",
       "  <tbody>\n",
       "    <tr>\n",
       "      <th>1992</th>\n",
       "      <td>-8941.531897</td>\n",
       "      <td>127788.667612</td>\n",
       "      <td>-71887.743011</td>\n",
       "      <td>-79146.060869</td>\n",
       "      <td>425156.114501</td>\n",
       "      <td>310681.166595</td>\n",
       "      <td>50581.575349</td>\n",
       "      <td>88349.230566</td>\n",
       "      <td>185804.513522</td>\n",
       "      <td>281286.947277</td>\n",
       "      <td>...</td>\n",
       "      <td>171938.760289</td>\n",
       "      <td>150650.759924</td>\n",
       "      <td>203663.976475</td>\n",
       "      <td>-377877.158072</td>\n",
       "      <td>-197214.093861</td>\n",
       "      <td>24185.008589</td>\n",
       "      <td>-56826.729535</td>\n",
       "      <td>-67319.766489</td>\n",
       "      <td>113377.299342</td>\n",
       "      <td>-4494.878538</td>\n",
       "    </tr>\n",
       "    <tr>\n",
       "      <th>1993</th>\n",
       "      <td>-51896.094813</td>\n",
       "      <td>198350.518755</td>\n",
       "      <td>-123518.252821</td>\n",
       "      <td>-129916.759685</td>\n",
       "      <td>216119.147314</td>\n",
       "      <td>49845.883728</td>\n",
       "      <td>149135.648505</td>\n",
       "      <td>62807.672113</td>\n",
       "      <td>23365.577348</td>\n",
       "      <td>-109686.264981</td>\n",
       "      <td>...</td>\n",
       "      <td>-44566.520071</td>\n",
       "      <td>101032.122475</td>\n",
       "      <td>117648.199945</td>\n",
       "      <td>160475.622607</td>\n",
       "      <td>-13759.888342</td>\n",
       "      <td>-37333.493572</td>\n",
       "      <td>103019.841174</td>\n",
       "      <td>179746.127403</td>\n",
       "      <td>13455.493990</td>\n",
       "      <td>34442.898855</td>\n",
       "    </tr>\n",
       "    <tr>\n",
       "      <th>1994</th>\n",
       "      <td>152336.932066</td>\n",
       "      <td>192947.128056</td>\n",
       "      <td>389950.263156</td>\n",
       "      <td>-93006.152024</td>\n",
       "      <td>100818.575896</td>\n",
       "      <td>5529.230706</td>\n",
       "      <td>-32989.370488</td>\n",
       "      <td>223942.967178</td>\n",
       "      <td>-66721.580898</td>\n",
       "      <td>47826.269111</td>\n",
       "      <td>...</td>\n",
       "      <td>165085.806360</td>\n",
       "      <td>74735.174090</td>\n",
       "      <td>107329.726875</td>\n",
       "      <td>199250.734156</td>\n",
       "      <td>-36792.202754</td>\n",
       "      <td>-71861.846997</td>\n",
       "      <td>26375.113219</td>\n",
       "      <td>-29328.078384</td>\n",
       "      <td>65858.761714</td>\n",
       "      <td>-91542.001049</td>\n",
       "    </tr>\n",
       "    <tr>\n",
       "      <th>1995</th>\n",
       "      <td>-69708.439062</td>\n",
       "      <td>-13289.977022</td>\n",
       "      <td>-30178.390991</td>\n",
       "      <td>55052.181256</td>\n",
       "      <td>152883.621657</td>\n",
       "      <td>12930.835194</td>\n",
       "      <td>63700.461932</td>\n",
       "      <td>64148.489835</td>\n",
       "      <td>-29316.268556</td>\n",
       "      <td>59645.677367</td>\n",
       "      <td>...</td>\n",
       "      <td>-13901.388118</td>\n",
       "      <td>50173.686673</td>\n",
       "      <td>53965.990717</td>\n",
       "      <td>4128.990173</td>\n",
       "      <td>72202.595138</td>\n",
       "      <td>39937.199964</td>\n",
       "      <td>139472.114293</td>\n",
       "      <td>59386.186379</td>\n",
       "      <td>73362.229590</td>\n",
       "      <td>28705.082908</td>\n",
       "    </tr>\n",
       "  </tbody>\n",
       "</table>\n",
       "<p>4 rows × 3650 columns</p>\n",
       "</div>"
      ],
      "text/plain": [
       "               0              1              2              3     \\\n",
       "1992   -8941.531897  127788.667612  -71887.743011  -79146.060869   \n",
       "1993  -51896.094813  198350.518755 -123518.252821 -129916.759685   \n",
       "1994  152336.932066  192947.128056  389950.263156  -93006.152024   \n",
       "1995  -69708.439062  -13289.977022  -30178.390991   55052.181256   \n",
       "\n",
       "               4              5              6              7     \\\n",
       "1992  425156.114501  310681.166595   50581.575349   88349.230566   \n",
       "1993  216119.147314   49845.883728  149135.648505   62807.672113   \n",
       "1994  100818.575896    5529.230706  -32989.370488  223942.967178   \n",
       "1995  152883.621657   12930.835194   63700.461932   64148.489835   \n",
       "\n",
       "               8              9         ...                3640  \\\n",
       "1992  185804.513522  281286.947277      ...       171938.760289   \n",
       "1993   23365.577348 -109686.264981      ...       -44566.520071   \n",
       "1994  -66721.580898   47826.269111      ...       165085.806360   \n",
       "1995  -29316.268556   59645.677367      ...       -13901.388118   \n",
       "\n",
       "               3641           3642           3643           3644  \\\n",
       "1992  150650.759924  203663.976475 -377877.158072 -197214.093861   \n",
       "1993  101032.122475  117648.199945  160475.622607  -13759.888342   \n",
       "1994   74735.174090  107329.726875  199250.734156  -36792.202754   \n",
       "1995   50173.686673   53965.990717    4128.990173   72202.595138   \n",
       "\n",
       "              3645           3646           3647           3648          3649  \n",
       "1992  24185.008589  -56826.729535  -67319.766489  113377.299342  -4494.878538  \n",
       "1993 -37333.493572  103019.841174  179746.127403   13455.493990  34442.898855  \n",
       "1994 -71861.846997   26375.113219  -29328.078384   65858.761714 -91542.001049  \n",
       "1995  39937.199964  139472.114293   59386.186379   73362.229590  28705.082908  \n",
       "\n",
       "[4 rows x 3650 columns]"
      ]
     },
     "execution_count": 1,
     "metadata": {},
     "output_type": "execute_result"
    }
   ],
   "source": [
    "# Use the following data for this assignment:\n",
    "\n",
    "import pandas as pd\n",
    "import numpy as np\n",
    "\n",
    "np.random.seed(12345)\n",
    "\n",
    "df = pd.DataFrame([np.random.normal(32000,200000,3650), \n",
    "                   np.random.normal(43000,100000,3650), \n",
    "                   np.random.normal(43500,140000,3650), \n",
    "                   np.random.normal(48000,70000,3650)], \n",
    "                  index=[1992,1993,1994,1995])\n",
    "df"
   ]
  },
  {
   "cell_type": "code",
   "execution_count": 2,
   "metadata": {},
   "outputs": [],
   "source": [
    "import matplotlib.pyplot as plt\n",
    "%matplotlib notebook"
   ]
  },
  {
   "cell_type": "code",
   "execution_count": 10,
   "metadata": {},
   "outputs": [],
   "source": [
    "from scipy import stats"
   ]
  },
  {
   "cell_type": "code",
   "execution_count": 3,
   "metadata": {
    "scrolled": true
   },
   "outputs": [],
   "source": [
    "df_mean = df.mean(axis=1)\n",
    "df_std = df.std(axis=1)"
   ]
  },
  {
   "cell_type": "code",
   "execution_count": 11,
   "metadata": {},
   "outputs": [],
   "source": [
    "y_err = df_std/np.sqrt(df.shape[1] * stats.t.ppf(0.95,df.shape[1]-1))"
   ]
  },
  {
   "cell_type": "code",
   "execution_count": 12,
   "metadata": {},
   "outputs": [
    {
     "data": {
      "image/png": "[encoded data removed]",
      "text/plain": [
       "<Figure size 432x288 with 1 Axes>"
      ]
     },
     "metadata": {
      "needs_background": "light"
     },
     "output_type": "display_data"
    }
   ],
   "source": [
    "plt.figure()\n",
    "plt.bar(range(df.shape[0]),df_mean,yerr=y_err,color='bwbr',alpha=0.7,edgecolor='black',capsize=5)\n",
    "plt.axhline(y=42000,color='grey')\n",
    "plt.xticks(range(df.shape[0]),['1992','1993','1994','1995'])\n",
    "plt.title('color blue if the mean is lower than y\\n color red if the mean is higher than y\\n color white if mean is =y')\n",
    "           \n",
    "plt.savefig('assign.jpg')"
   ]
  },
  {
   "cell_type": "code",
   "execution_count": null,
   "metadata": {},
   "outputs": [],
   "source": []
  },
  {
   "cell_type": "code",
   "execution_count": null,
   "metadata": {},
   "outputs": [],
   "source": []
  },
  {
   "cell_type": "code",
   "execution_count": null,
   "metadata": {},
   "outputs": [],
   "source": []
  }
 ],
 "metadata": {
  "kernelspec": {
   "display_name": "Python 3",
   "language": "python",
   "name": "python3"
  },
  "language_info": {
   "codemirror_mode": {
    "name": "ipython",
    "version": 3
   },
   "file_extension": ".py",
   "mimetype": "text/x-python",
   "name": "python",
   "nbconvert_exporter": "python",
   "pygments_lexer": "ipython3",
   "version": "3.6.6"
  }
 },
 "nbformat": 4,
 "nbformat_minor": 2
}
