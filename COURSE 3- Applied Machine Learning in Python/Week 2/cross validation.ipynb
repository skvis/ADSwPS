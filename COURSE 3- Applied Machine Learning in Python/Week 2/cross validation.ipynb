{
 "cells": [
  {
   "cell_type": "code",
   "execution_count": 1,
   "metadata": {},
   "outputs": [],
   "source": [
    "#Cross- Validation"
   ]
  },
  {
   "cell_type": "code",
   "execution_count": 5,
   "metadata": {},
   "outputs": [
    {
     "name": "stdout",
     "output_type": "stream",
     "text": [
      "Cross-validation scores (3-fold): [0.77272727 0.73684211 0.83333333]\n",
      "Mean cross-validation score (3-fold): 0.781\n"
     ]
    }
   ],
   "source": [
    "# CrossValidation\n",
    "\n",
    "from sklearn.neighbors import KNeighborsClassifier\n",
    "from sklearn.model_selection import train_test_split, cross_val_score\n",
    "import pandas as pd\n",
    "import numpy as np\n",
    "\n",
    "fruits = pd.read_table('fruit_data_with_colors.txt')\n",
    "X_fruits = fruits[['height','width']]\n",
    "y_fruits = fruits['fruit_label']\n",
    "\n",
    "clf = KNeighborsClassifier(n_neighbors = 5)\n",
    "X = X_fruits.values\n",
    "y = y_fruits.values\n",
    "\n",
    "cv_scores = cross_val_score(clf, X, y)\n",
    "\n",
    "print('Cross-validation scores (3-fold):',cv_scores)\n",
    "print('Mean cross-validation score (3-fold): {:.3f}'\n",
    "      .format(np.mean(cv_scores)))"
   ]
  },
  {
   "cell_type": "code",
   "execution_count": 7,
   "metadata": {},
   "outputs": [],
   "source": [
    "#validation curve example\n",
    "from sklearn.neighbors import KNeighborsClassifier\n",
    "from sklearn.svm import SVC\n",
    "from sklearn.model_selection import validation_curve\n",
    "import pandas as pd\n",
    "import numpy as np\n",
    "\n",
    "fruits = pd.read_table('fruit_data_with_colors.txt')\n",
    "X_fruits = fruits[['height','width']]\n",
    "y_fruits = fruits['fruit_label']\n",
    "\n",
    "clf = KNeighborsClassifier(n_neighbors = 5)\n",
    "X = X_fruits.values\n",
    "y = y_fruits.values\n",
    "\n",
    "param_range = np.logspace(-3,3,4)\n",
    "train_scores, test_scores = validation_curve(SVC(),X, y,param_name= 'gamma',\n",
    "                                             param_range=param_range,cv=3)"
   ]
  },
  {
   "cell_type": "code",
   "execution_count": 8,
   "metadata": {},
   "outputs": [
    {
     "name": "stdout",
     "output_type": "stream",
     "text": [
      "[[0.48648649 0.425      0.41463415]\n",
      " [0.83783784 0.725      0.75609756]\n",
      " [0.91891892 0.9        0.92682927]\n",
      " [1.         1.         0.97560976]]\n"
     ]
    }
   ],
   "source": [
    "print(train_scores)"
   ]
  },
  {
   "cell_type": "code",
   "execution_count": 9,
   "metadata": {},
   "outputs": [
    {
     "name": "stdout",
     "output_type": "stream",
     "text": [
      "[[0.45454545 0.31578947 0.33333333]\n",
      " [0.81818182 0.68421053 0.61111111]\n",
      " [0.40909091 0.84210526 0.66666667]\n",
      " [0.36363636 0.21052632 0.38888889]]\n"
     ]
    }
   ],
   "source": [
    "print(test_scores)"
   ]
  },
  {
   "cell_type": "code",
   "execution_count": null,
   "metadata": {},
   "outputs": [],
   "source": []
  }
 ],
 "metadata": {
  "kernelspec": {
   "display_name": "Python 3",
   "language": "python",
   "name": "python3"
  },
  "language_info": {
   "codemirror_mode": {
    "name": "ipython",
    "version": 3
   },
   "file_extension": ".py",
   "mimetype": "text/x-python",
   "name": "python",
   "nbconvert_exporter": "python",
   "pygments_lexer": "ipython3",
   "version": "3.7.0"
  }
 },
 "nbformat": 4,
 "nbformat_minor": 2
}
