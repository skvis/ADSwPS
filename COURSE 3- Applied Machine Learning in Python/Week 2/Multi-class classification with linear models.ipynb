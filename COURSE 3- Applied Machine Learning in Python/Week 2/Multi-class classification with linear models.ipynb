{
 "cells": [
  {
   "cell_type": "code",
   "execution_count": 1,
   "metadata": {},
   "outputs": [
    {
     "name": "stdout",
     "output_type": "stream",
     "text": [
      "coefficients:\n",
      " [[-0.2632447   0.71355615]\n",
      " [-1.62923806  1.15817804]\n",
      " [ 0.03316693  0.28703901]\n",
      " [ 1.24224735 -1.63576356]]\n",
      "Intercepts:\n",
      " [-3.2898795   1.19927347 -2.71574774  1.16108696]\n"
     ]
    }
   ],
   "source": [
    "# Multi-class Classification with linear models\n",
    "\n",
    "from sklearn.svm import LinearSVC\n",
    "from sklearn.model_selection import train_test_split\n",
    "import pandas as pd\n",
    "\n",
    "fruits = pd.read_table('fruit_data_with_colors.txt')\n",
    "\n",
    "X_fruits = fruits[['height','width']]\n",
    "y_fruits = fruits['fruit_label']\n",
    "\n",
    "X_train, X_test, y_train, y_test = train_test_split(X_fruits, y_fruits, random_state=0)\n",
    "\n",
    "clf = LinearSVC(C=5, random_state=67).fit(X_train, y_train)\n",
    "print('coefficients:\\n',clf.coef_)\n",
    "print('Intercepts:\\n',clf.intercept_)\n"
   ]
  },
  {
   "cell_type": "code",
   "execution_count": null,
   "metadata": {},
   "outputs": [],
   "source": []
  }
 ],
 "metadata": {
  "kernelspec": {
   "display_name": "Python 3",
   "language": "python",
   "name": "python3"
  },
  "language_info": {
   "codemirror_mode": {
    "name": "ipython",
    "version": 3
   },
   "file_extension": ".py",
   "mimetype": "text/x-python",
   "name": "python",
   "nbconvert_exporter": "python",
   "pygments_lexer": "ipython3",
   "version": "3.7.0"
  }
 },
 "nbformat": 4,
 "nbformat_minor": 2
}
