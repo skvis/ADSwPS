{
 "cells": [
  {
   "cell_type": "code",
   "execution_count": 1,
   "metadata": {},
   "outputs": [],
   "source": [
    "# KNN Regression"
   ]
  },
  {
   "cell_type": "code",
   "execution_count": 4,
   "metadata": {},
   "outputs": [],
   "source": [
    "import matplotlib.pyplot as plt"
   ]
  },
  {
   "cell_type": "code",
   "execution_count": 2,
   "metadata": {},
   "outputs": [],
   "source": [
    "from sklearn.datasets import make_regression"
   ]
  },
  {
   "cell_type": "code",
   "execution_count": 6,
   "metadata": {},
   "outputs": [
    {
     "data": {
      "text/plain": [
       "Text(0.5,1,'Sample regression problem with one input variable')"
      ]
     },
     "execution_count": 6,
     "metadata": {},
     "output_type": "execute_result"
    },
    {
     "data": {
      "image/png": "[encoded data removed]",
      "text/plain": [
       "<Figure size 432x288 with 1 Axes>"
      ]
     },
     "metadata": {
      "needs_background": "light"
     },
     "output_type": "display_data"
    }
   ],
   "source": [
    "plt.figure()\n",
    "plt.title('Sample regression problem with one input variable')"
   ]
  },
  {
   "cell_type": "code",
   "execution_count": 17,
   "metadata": {},
   "outputs": [
    {
     "data": {
      "image/png": "[encoded data removed]",
      "text/plain": [
       "<Figure size 432x288 with 1 Axes>"
      ]
     },
     "metadata": {
      "needs_background": "light"
     },
     "output_type": "display_data"
    }
   ],
   "source": [
    "X_R1, y_R1 = make_regression(n_samples = 100, n_features = 1, \n",
    "                             n_informative = 1, bias = 150.0,\n",
    "                             noise = 30, random_state=0)\n",
    "plt.scatter(X_R1, y_R1, marker = 'o', s=50)\n",
    "#plt.show()"
   ]
  },
  {
   "cell_type": "code",
   "execution_count": 19,
   "metadata": {},
   "outputs": [],
   "source": [
    "from sklearn.model_selection import train_test_split"
   ]
  },
  {
   "cell_type": "code",
   "execution_count": 21,
   "metadata": {},
   "outputs": [
    {
     "data": {
      "text/plain": [
       "KNeighborsRegressor(algorithm='auto', leaf_size=30, metric='minkowski',\n",
       "          metric_params=None, n_jobs=1, n_neighbors=5, p=2,\n",
       "          weights='uniform')"
      ]
     },
     "execution_count": 21,
     "metadata": {},
     "output_type": "execute_result"
    }
   ],
   "source": [
    "from sklearn.neighbors import KNeighborsRegressor\n",
    "X_train, X_test, y_train, y_test = train_test_split(X_R1, y_R1,random_state=0)\n",
    "knnreg = KNeighborsRegressor(n_neighbors=5)\n",
    "knnreg.fit(X_train, y_train)"
   ]
  },
  {
   "cell_type": "code",
   "execution_count": 23,
   "metadata": {},
   "outputs": [
    {
     "data": {
      "text/plain": [
       "array([231.70974697, 148.35572605, 150.58852659, 150.58852659,\n",
       "        72.14859259, 166.50590948, 141.90634426, 235.57098756,\n",
       "       208.25897836, 102.10462746, 191.31852674, 134.50044902,\n",
       "       228.32181403, 148.35572605, 159.16911306, 113.46875166,\n",
       "       144.03646012, 199.23189853, 143.19242433, 166.50590948,\n",
       "       231.70974697, 208.25897836, 128.01545355, 123.14247619,\n",
       "       141.90634426])"
      ]
     },
     "execution_count": 23,
     "metadata": {},
     "output_type": "execute_result"
    }
   ],
   "source": [
    "knnreg.predict(X_test)"
   ]
  },
  {
   "cell_type": "code",
   "execution_count": 24,
   "metadata": {},
   "outputs": [
    {
     "data": {
      "text/plain": [
       "0.4246800858234563"
      ]
     },
     "execution_count": 24,
     "metadata": {},
     "output_type": "execute_result"
    }
   ],
   "source": [
    "knnreg.score(X_test,y_test)"
   ]
  },
  {
   "cell_type": "code",
   "execution_count": 30,
   "metadata": {},
   "outputs": [
    {
     "name": "stdout",
     "output_type": "stream",
     "text": [
      "R-squared test score: 0.425\n"
     ]
    }
   ],
   "source": [
    "print('R-squared test score: {:.3f}'.format(knnreg.score(X_test,y_test)))"
   ]
  },
  {
   "cell_type": "code",
   "execution_count": 1,
   "metadata": {},
   "outputs": [
    {
     "name": "stdout",
     "output_type": "stream",
     "text": [
      "[231.70974697 148.35572605 150.58852659 150.58852659  72.14859259\n",
      " 166.50590948 141.90634426 235.57098756 208.25897836 102.10462746\n",
      " 191.31852674 134.50044902 228.32181403 148.35572605 159.16911306\n",
      " 113.46875166 144.03646012 199.23189853 143.19242433 166.50590948\n",
      " 231.70974697 208.25897836 128.01545355 123.14247619 141.90634426]\n",
      "R-squared test score:0.425\n"
     ]
    }
   ],
   "source": [
    "from sklearn.model_selection import train_test_split\n",
    "from sklearn.neighbors import KNeighborsRegressor\n",
    "from sklearn.datasets import make_regression\n",
    "\n",
    "X_R1, y_R1 = make_regression(n_samples = 100, n_features = 1,\n",
    "                             n_informative =1, bias = 150.0,\n",
    "                             noise = 30, random_state=0)\n",
    "\n",
    "X_train, X_test, y_train, y_test = train_test_split(X_R1, y_R1, random_state=0)\n",
    "knnreg = KNeighborsRegressor(n_neighbors = 5)\n",
    "knnreg.fit(X_train, y_train)\n",
    "print(knnreg.predict(X_test))\n",
    "print('R-squared test score:{:.3f}'.format(knnreg.score(X_test,y_test)))"
   ]
  },
  {
   "cell_type": "code",
   "execution_count": null,
   "metadata": {},
   "outputs": [],
   "source": []
  }
 ],
 "metadata": {
  "kernelspec": {
   "display_name": "Python 3",
   "language": "python",
   "name": "python3"
  },
  "language_info": {
   "codemirror_mode": {
    "name": "ipython",
    "version": 3
   },
   "file_extension": ".py",
   "mimetype": "text/x-python",
   "name": "python",
   "nbconvert_exporter": "python",
   "pygments_lexer": "ipython3",
   "version": "3.7.0"
  }
 },
 "nbformat": 4,
 "nbformat_minor": 2
}
