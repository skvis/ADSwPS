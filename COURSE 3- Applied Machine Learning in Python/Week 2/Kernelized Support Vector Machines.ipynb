{
 "cells": [
  {
   "cell_type": "code",
   "execution_count": 10,
   "metadata": {},
   "outputs": [
    {
     "name": "stdout",
     "output_type": "stream",
     "text": [
      "Accuracy of RBF Kernerl on training set: 0.92\n",
      "Accuracy of RBF Kernel of testing set: 0.76\n",
      "Accuracy of Poly Kernerl on training set: 0.76\n",
      "Accuracy of Poly Kernel of testing set: 0.84\n"
     ]
    }
   ],
   "source": [
    "# Kernelized Support Vector Machines (SVM)\n",
    "\n",
    "# Classification\n",
    "# Using Radial Basci Function Kernel\n",
    "from sklearn.svm import SVC\n",
    "from sklearn.model_selection import train_test_split\n",
    "from sklearn.datasets import make_blobs\n",
    "\n",
    "X_D2, y_D2 = make_blobs(n_samples = 100, n_features = 2, centers =8,\n",
    "                        cluster_std = 1.3, random_state = 4)\n",
    "y_D2 = y_D2%2\n",
    "\n",
    "X_train, X_test, y_train, y_test = train_test_split(X_D2, y_D2, random_state = 0)\n",
    "clf = SVC().fit(X_train, y_train)\n",
    "\n",
    "print('Accuracy of RBF Kernerl on training set: {:.2f}'\n",
    "      .format(clf.score(X_train, y_train)))\n",
    "print('Accuracy of RBF Kernel of testing set: {:.2f}'\n",
    "      .format(clf.score(X_test, y_test)))\n",
    "\n",
    "# Using Polynomial Kernel\n",
    "from sklearn.svm import SVC\n",
    "from sklearn.model_selection import train_test_split\n",
    "from sklearn.datasets import make_blobs\n",
    "\n",
    "X_D2, y_D2 = make_blobs(n_samples = 100, n_features = 2, centers =8,\n",
    "                        cluster_std = 1.3, random_state = 4)\n",
    "y_D2 = y_D2%2\n",
    "\n",
    "X_train, X_test, y_train, y_test = train_test_split(X_D2, y_D2, random_state = 0)\n",
    "clf = SVC(kernel = 'poly',degree =3).fit(X_train, y_train)\n",
    "\n",
    "print('Accuracy of Poly Kernerl on training set: {:.2f}'\n",
    "      .format(clf.score(X_train, y_train)))\n",
    "print('Accuracy of Poly Kernel of testing set: {:.2f}'\n",
    "      .format(clf.score(X_test, y_test)))\n"
   ]
  },
  {
   "cell_type": "code",
   "execution_count": 14,
   "metadata": {},
   "outputs": [
    {
     "name": "stdout",
     "output_type": "stream",
     "text": [
      "Accuracy of RBF Kernerl on training set: 0.91\n",
      "Accuracy of RBF Kernel of testing set: 0.80\n"
     ]
    }
   ],
   "source": [
    "from sklearn.svm import SVC\n",
    "from sklearn.model_selection import train_test_split\n",
    "from sklearn.datasets import make_blobs\n",
    "\n",
    "X_D2, y_D2 = make_blobs(n_samples = 100, n_features = 2, centers =8,\n",
    "                        cluster_std = 1.3, random_state = 4)\n",
    "y_D2 = y_D2%2\n",
    "\n",
    "X_train, X_test, y_train, y_test = train_test_split(X_D2, y_D2, random_state = 0)\n",
    "clf = SVC(kernel ='rbf',gamma =0.1).fit(X_train, y_train)\n",
    "\n",
    "print('Accuracy of RBF Kernerl on training set: {:.2f}'\n",
    "      .format(clf.score(X_train, y_train)))\n",
    "print('Accuracy of RBF Kernel of testing set: {:.2f}'\n",
    "      .format(clf.score(X_test, y_test)))"
   ]
  },
  {
   "cell_type": "code",
   "execution_count": 16,
   "metadata": {},
   "outputs": [
    {
     "name": "stdout",
     "output_type": "stream",
     "text": [
      "Accuracy of RBF Kernerl on training set: 0.59\n",
      "Accuracy of RBF Kernel of testing set: 0.64\n"
     ]
    }
   ],
   "source": [
    "# Using gamma and c parameter\n",
    "from sklearn.svm import SVC\n",
    "from sklearn.model_selection import train_test_split\n",
    "from sklearn.datasets import make_blobs\n",
    "\n",
    "X_D2, y_D2 = make_blobs(n_samples = 100, n_features = 2, centers =8,\n",
    "                        cluster_std = 1.3, random_state = 4)\n",
    "y_D2 = y_D2%2\n",
    "\n",
    "X_train, X_test, y_train, y_test = train_test_split(X_D2, y_D2, random_state = 0)\n",
    "clf = SVC(kernel ='rbf',gamma =0.01, C =0.1).fit(X_train, y_train)\n",
    "\n",
    "print('Accuracy of RBF Kernerl on training set: {:.2f}'\n",
    "      .format(clf.score(X_train, y_train)))\n",
    "print('Accuracy of RBF Kernel of testing set: {:.2f}'\n",
    "      .format(clf.score(X_test, y_test)))"
   ]
  },
  {
   "cell_type": "code",
   "execution_count": 18,
   "metadata": {},
   "outputs": [
    {
     "name": "stdout",
     "output_type": "stream",
     "text": [
      "Accuracy of RBF-kernel SVC on training set: 1.00\n",
      "Accuracy of RBF-kernel SVC on testing set: 0.63\n"
     ]
    }
   ],
   "source": [
    "# Application of SVMs to real dataset:unnormalized data\n",
    "from sklearn.svm import SVC\n",
    "from sklearn.datasets import load_breast_cancer\n",
    "from sklearn.model_selection import train_test_split\n",
    "\n",
    "cancer = load_breast_cancer()\n",
    "(X_cancer, y_cancer) = load_breast_cancer(return_X_y = True)\n",
    "\n",
    "X_train, X_test, y_train, y_test = train_test_split(X_cancer, y_cancer, random_state =0)\n",
    "clf = SVC(C =10).fit(X_train, y_train)\n",
    "print('Accuracy of RBF-kernel SVC on training set: {:.2f}'\n",
    "      .format(clf.score(X_train, y_train)))\n",
    "print('Accuracy of RBF-kernel SVC on testing set: {:.2f}'\n",
    "      .format(clf.score(X_test, y_test)))\n"
   ]
  },
  {
   "cell_type": "code",
   "execution_count": 20,
   "metadata": {},
   "outputs": [
    {
     "name": "stdout",
     "output_type": "stream",
     "text": [
      "RBF-kernel SVC (with MinMaxScaling) training set accuracy: 0.98\n",
      "RBF-kernel SVC (with MinMaxScaling) test set accuracy: 0.96\n"
     ]
    }
   ],
   "source": [
    "# Application of SVMs to a real dataset: normalized data with feature preprocessing using minmax scaling\n",
    "\n",
    "from sklearn.svm import SVC \n",
    "from sklearn.datasets import load_breast_cancer\n",
    "from sklearn.model_selection import train_test_split\n",
    "from sklearn.preprocessing import MinMaxScaler\n",
    "\n",
    "cancer = load_breast_cancer()\n",
    "(X_cancer, y_cancer) = load_breast_cancer(return_X_y =True)\n",
    "\n",
    "X_train, X_test, y_train, y_test = train_test_split(X_cancer, y_cancer, random_state = 0)\n",
    "\n",
    "scaler = MinMaxScaler()\n",
    "X_train_scaled = scaler.fit_transform(X_train)\n",
    "X_test_scaled = scaler.transform(X_test)\n",
    "\n",
    "clf = SVC(C = 10).fit(X_train_scaled, y_train)\n",
    "\n",
    "print('RBF-kernel SVC (with MinMaxScaling) training set accuracy: {:.2f}'\n",
    "      .format(clf.score(X_train_scaled, y_train)))\n",
    "print('RBF-kernel SVC (with MinMaxScaling) test set accuracy: {:.2f}'\n",
    "      .format(clf.score(X_test_scaled, y_test)))\n"
   ]
  },
  {
   "cell_type": "code",
   "execution_count": null,
   "metadata": {},
   "outputs": [],
   "source": []
  }
 ],
 "metadata": {
  "kernelspec": {
   "display_name": "Python 3",
   "language": "python",
   "name": "python3"
  },
  "language_info": {
   "codemirror_mode": {
    "name": "ipython",
    "version": 3
   },
   "file_extension": ".py",
   "mimetype": "text/x-python",
   "name": "python",
   "nbconvert_exporter": "python",
   "pygments_lexer": "ipython3",
   "version": "3.7.0"
  }
 },
 "nbformat": 4,
 "nbformat_minor": 2
}
